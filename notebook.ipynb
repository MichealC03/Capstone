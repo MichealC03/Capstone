{
 "cells": [
  {
   "cell_type": "code",
   "execution_count": 1,
   "metadata": {},
   "outputs": [
    {
     "name": "stderr",
     "output_type": "stream",
     "text": [
      "c:\\Users\\miche\\AppData\\Local\\Programs\\Python\\Python310\\lib\\site-packages\\pyopensky\\impala.py:17: TqdmExperimentalWarning: Using `tqdm.autonotebook.tqdm` in notebook mode. Use `tqdm.tqdm` instead to force console mode (e.g. in jupyter console)\n",
      "  from tqdm.autonotebook import tqdm\n"
     ]
    },
    {
     "data": {
      "application/vnd.jupyter.widget-view+json": {
       "model_id": "e9e9db43969a4fb0b4c55753f4d9bcf3",
       "version_major": 2,
       "version_minor": 0
      },
      "text/plain": [
       "  0%|          | 0/24 [00:00<?, ?it/s]"
      ]
     },
     "metadata": {},
     "output_type": "display_data"
    }
   ],
   "source": [
    "from pyopensky.impala import Impala\n",
    "import matplotlib.pyplot as plt\n",
    "import pandas as pd\n",
    "\n",
    "# Create an instance of the Impala class with authentication credentials\n",
    "opensky = Impala(\n",
    "    username=\"MCallahan03\",\n",
    "    password=\"Soccer21!\",\n",
    "    host=\"data.opensky-network.org\",\n",
    "    port=2230  # The port for the Impala shell\n",
    ")\n",
    "\n",
    "# Airbus test flights from and to Toulouse airport\n",
    "hist = opensky.history(\n",
    "    start=\"2022-01-03 01:00\",\n",
    "    end=\"2022-01-03 23:59\",\n",
    "    #icao24=\"A19A21\",\n",
    "    departure_airport=\"HNL\",\n",
    "    arrival_airport=\"SJC\",\n",
    "    limit=50\n",
    "    #callsign=\"HAL23\"\n",
    ")"
   ]
  },
  {
   "cell_type": "markdown",
   "metadata": {},
   "source": []
  },
  {
   "cell_type": "code",
   "execution_count": null,
   "metadata": {},
   "outputs": [],
   "source": [
    "df = pd.DataFrame(hist)\n",
    "\n",
    "df"
   ]
  },
  {
   "cell_type": "code",
   "execution_count": null,
   "metadata": {},
   "outputs": [],
   "source": [
    "plt.plot(df['lon'], df['lat'])\n",
    "plt.xlabel('X-axis Label')\n",
    "plt.ylabel('Y-axis Label')\n",
    "plt.title('Title of the Plot')\n",
    "plt.show()"
   ]
  }
 ],
 "metadata": {
  "kernelspec": {
   "display_name": "Python 3",
   "language": "python",
   "name": "python3"
  },
  "language_info": {
   "codemirror_mode": {
    "name": "ipython",
    "version": 3
   },
   "file_extension": ".py",
   "mimetype": "text/x-python",
   "name": "python",
   "nbconvert_exporter": "python",
   "pygments_lexer": "ipython3",
   "version": "3.10.1"
  }
 },
 "nbformat": 4,
 "nbformat_minor": 2
}
