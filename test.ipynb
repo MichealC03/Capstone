{
 "cells": [
  {
   "cell_type": "code",
   "execution_count": 2,
   "metadata": {},
   "outputs": [],
   "source": [
    "from amadeus import Client, ResponseError\n",
    "import os\n",
    "\n",
    "amadeus = Client(\n",
    "    client_id= os.getenv(\"AMADEUS_API_KEY\"),\n",
    "    client_secret= os.getenv(\"AMADEUS_API_SECRET\")\n",
    ")"
   ]
  },
  {
   "cell_type": "code",
   "execution_count": 30,
   "metadata": {},
   "outputs": [
    {
     "name": "stdout",
     "output_type": "stream",
     "text": [
      "{'type': 'flight-offer', 'id': '1', 'source': 'GDS', 'instantTicketingRequired': False, 'nonHomogeneous': False, 'oneWay': False, 'lastTicketingDate': '2024-02-17', 'lastTicketingDateTime': '2024-02-17', 'numberOfBookableSeats': 9, 'itineraries': [{'duration': 'PT6H50M', 'segments': [{'departure': {'iataCode': 'PHX', 'terminal': '3', 'at': '2024-02-22T07:55:00'}, 'arrival': {'iataCode': 'HNL', 'terminal': '1', 'at': '2024-02-22T11:45:00'}, 'carrierCode': 'HA', 'number': '35', 'aircraft': {'code': '332'}, 'operating': {'carrierCode': 'HA'}, 'duration': 'PT6H50M', 'id': '1', 'numberOfStops': 0, 'blacklistedInEU': False}]}], 'price': {'currency': 'USD', 'total': '662.40', 'base': '604.20', 'fees': [{'amount': '0.00', 'type': 'SUPPLIER'}, {'amount': '0.00', 'type': 'TICKETING'}], 'grandTotal': '662.40'}, 'pricingOptions': {'fareType': ['PUBLISHED'], 'includedCheckedBagsOnly': False}, 'validatingAirlineCodes': ['HA'], 'travelerPricings': [{'travelerId': '1', 'fareOption': 'STANDARD', 'travelerType': 'ADULT', 'price': {'currency': 'USD', 'total': '331.20', 'base': '302.10'}, 'fareDetailsBySegment': [{'segmentId': '1', 'cabin': 'ECONOMY', 'fareBasis': 'HHX0ODBN', 'brandedFare': 'MB', 'brandedFareLabel': 'MAIN CABIN BASIC', 'class': 'U', 'includedCheckedBags': {'quantity': 0}, 'amenities': [{'description': 'UPTO50LB 23KG AND62LI 158LCM', 'isChargeable': True, 'amenityType': 'BAGGAGE', 'amenityProvider': {'name': 'BrandedFare'}}, {'description': 'SNACK', 'isChargeable': False, 'amenityType': 'MEAL', 'amenityProvider': {'name': 'BrandedFare'}}, {'description': 'ALCOHOLIC DRINK', 'isChargeable': True, 'amenityType': 'MEAL', 'amenityProvider': {'name': 'BrandedFare'}}, {'description': 'BEVERAGE', 'isChargeable': False, 'amenityType': 'MEAL', 'amenityProvider': {'name': 'BrandedFare'}}, {'description': 'MEAL 1', 'isChargeable': False, 'amenityType': 'MEAL', 'amenityProvider': {'name': 'BrandedFare'}}, {'description': 'USB POWER', 'isChargeable': False, 'amenityType': 'ENTERTAINMENT', 'amenityProvider': {'name': 'BrandedFare'}}]}]}, {'travelerId': '2', 'fareOption': 'STANDARD', 'travelerType': 'ADULT', 'price': {'currency': 'USD', 'total': '331.20', 'base': '302.10'}, 'fareDetailsBySegment': [{'segmentId': '1', 'cabin': 'ECONOMY', 'fareBasis': 'HHX0ODBN', 'brandedFare': 'MB', 'brandedFareLabel': 'MAIN CABIN BASIC', 'class': 'U', 'includedCheckedBags': {'quantity': 0}, 'amenities': [{'description': 'UPTO50LB 23KG AND62LI 158LCM', 'isChargeable': True, 'amenityType': 'BAGGAGE', 'amenityProvider': {'name': 'BrandedFare'}}, {'description': 'SNACK', 'isChargeable': False, 'amenityType': 'MEAL', 'amenityProvider': {'name': 'BrandedFare'}}, {'description': 'ALCOHOLIC DRINK', 'isChargeable': True, 'amenityType': 'MEAL', 'amenityProvider': {'name': 'BrandedFare'}}, {'description': 'BEVERAGE', 'isChargeable': False, 'amenityType': 'MEAL', 'amenityProvider': {'name': 'BrandedFare'}}, {'description': 'MEAL 1', 'isChargeable': False, 'amenityType': 'MEAL', 'amenityProvider': {'name': 'BrandedFare'}}, {'description': 'USB POWER', 'isChargeable': False, 'amenityType': 'ENTERTAINMENT', 'amenityProvider': {'name': 'BrandedFare'}}]}]}]}\n",
      "{'type': 'flight-offer', 'id': '1', 'source': 'GDS', 'instantTicketingRequired': False, 'nonHomogeneous': False, 'oneWay': False, 'lastTicketingDate': '2024-02-17', 'lastTicketingDateTime': '2024-02-17', 'numberOfBookableSeats': 9, 'itineraries': [{'duration': 'PT6H50M', 'segments': [{'departure': {'iataCode': 'PHX', 'terminal': '3', 'at': '2024-02-29T07:55:00'}, 'arrival': {'iataCode': 'HNL', 'terminal': '1', 'at': '2024-02-29T11:45:00'}, 'carrierCode': 'HA', 'number': '35', 'aircraft': {'code': '332'}, 'operating': {'carrierCode': 'HA'}, 'duration': 'PT6H50M', 'id': '1', 'numberOfStops': 0, 'blacklistedInEU': False}]}], 'price': {'currency': 'USD', 'total': '662.40', 'base': '604.20', 'fees': [{'amount': '0.00', 'type': 'SUPPLIER'}, {'amount': '0.00', 'type': 'TICKETING'}], 'grandTotal': '662.40'}, 'pricingOptions': {'fareType': ['PUBLISHED'], 'includedCheckedBagsOnly': False}, 'validatingAirlineCodes': ['HA'], 'travelerPricings': [{'travelerId': '1', 'fareOption': 'STANDARD', 'travelerType': 'ADULT', 'price': {'currency': 'USD', 'total': '331.20', 'base': '302.10'}, 'fareDetailsBySegment': [{'segmentId': '1', 'cabin': 'ECONOMY', 'fareBasis': 'HHX0ODBN', 'brandedFare': 'MB', 'brandedFareLabel': 'MAIN CABIN BASIC', 'class': 'U', 'includedCheckedBags': {'quantity': 0}, 'amenities': [{'description': 'UPTO50LB 23KG AND62LI 158LCM', 'isChargeable': True, 'amenityType': 'BAGGAGE', 'amenityProvider': {'name': 'BrandedFare'}}, {'description': 'SNACK', 'isChargeable': False, 'amenityType': 'MEAL', 'amenityProvider': {'name': 'BrandedFare'}}, {'description': 'ALCOHOLIC DRINK', 'isChargeable': True, 'amenityType': 'MEAL', 'amenityProvider': {'name': 'BrandedFare'}}, {'description': 'BEVERAGE', 'isChargeable': False, 'amenityType': 'MEAL', 'amenityProvider': {'name': 'BrandedFare'}}, {'description': 'MEAL 1', 'isChargeable': False, 'amenityType': 'MEAL', 'amenityProvider': {'name': 'BrandedFare'}}, {'description': 'USB POWER', 'isChargeable': False, 'amenityType': 'ENTERTAINMENT', 'amenityProvider': {'name': 'BrandedFare'}}]}]}, {'travelerId': '2', 'fareOption': 'STANDARD', 'travelerType': 'ADULT', 'price': {'currency': 'USD', 'total': '331.20', 'base': '302.10'}, 'fareDetailsBySegment': [{'segmentId': '1', 'cabin': 'ECONOMY', 'fareBasis': 'HHX0ODBN', 'brandedFare': 'MB', 'brandedFareLabel': 'MAIN CABIN BASIC', 'class': 'U', 'includedCheckedBags': {'quantity': 0}, 'amenities': [{'description': 'UPTO50LB 23KG AND62LI 158LCM', 'isChargeable': True, 'amenityType': 'BAGGAGE', 'amenityProvider': {'name': 'BrandedFare'}}, {'description': 'SNACK', 'isChargeable': False, 'amenityType': 'MEAL', 'amenityProvider': {'name': 'BrandedFare'}}, {'description': 'ALCOHOLIC DRINK', 'isChargeable': True, 'amenityType': 'MEAL', 'amenityProvider': {'name': 'BrandedFare'}}, {'description': 'BEVERAGE', 'isChargeable': False, 'amenityType': 'MEAL', 'amenityProvider': {'name': 'BrandedFare'}}, {'description': 'MEAL 1', 'isChargeable': False, 'amenityType': 'MEAL', 'amenityProvider': {'name': 'BrandedFare'}}, {'description': 'USB POWER', 'isChargeable': False, 'amenityType': 'ENTERTAINMENT', 'amenityProvider': {'name': 'BrandedFare'}}]}]}]}\n",
      "{'type': 'flight-offer', 'id': '1', 'source': 'GDS', 'instantTicketingRequired': False, 'nonHomogeneous': False, 'oneWay': False, 'lastTicketingDate': '2024-02-17', 'lastTicketingDateTime': '2024-02-17', 'numberOfBookableSeats': 9, 'itineraries': [{'duration': 'PT6H50M', 'segments': [{'departure': {'iataCode': 'PHX', 'terminal': '3', 'at': '2024-03-07T07:55:00'}, 'arrival': {'iataCode': 'HNL', 'terminal': '1', 'at': '2024-03-07T11:45:00'}, 'carrierCode': 'HA', 'number': '35', 'aircraft': {'code': '332'}, 'operating': {'carrierCode': 'HA'}, 'duration': 'PT6H50M', 'id': '1', 'numberOfStops': 0, 'blacklistedInEU': False}]}], 'price': {'currency': 'USD', 'total': '752.34', 'base': '693.34', 'fees': [{'amount': '0.00', 'type': 'SUPPLIER'}, {'amount': '0.00', 'type': 'TICKETING'}], 'grandTotal': '752.34'}, 'pricingOptions': {'fareType': ['PUBLISHED'], 'includedCheckedBagsOnly': False}, 'validatingAirlineCodes': ['HA'], 'travelerPricings': [{'travelerId': '1', 'fareOption': 'STANDARD', 'travelerType': 'ADULT', 'price': {'currency': 'USD', 'total': '376.17', 'base': '346.67'}, 'fareDetailsBySegment': [{'segmentId': '1', 'cabin': 'ECONOMY', 'fareBasis': 'IHX0ODBN', 'brandedFare': 'MB', 'brandedFareLabel': 'MAIN CABIN BASIC', 'class': 'U', 'includedCheckedBags': {'quantity': 0}, 'amenities': [{'description': 'UPTO50LB 23KG AND62LI 158LCM', 'isChargeable': True, 'amenityType': 'BAGGAGE', 'amenityProvider': {'name': 'BrandedFare'}}, {'description': 'SNACK', 'isChargeable': False, 'amenityType': 'MEAL', 'amenityProvider': {'name': 'BrandedFare'}}, {'description': 'ALCOHOLIC DRINK', 'isChargeable': True, 'amenityType': 'MEAL', 'amenityProvider': {'name': 'BrandedFare'}}, {'description': 'BEVERAGE', 'isChargeable': False, 'amenityType': 'MEAL', 'amenityProvider': {'name': 'BrandedFare'}}, {'description': 'MEAL 1', 'isChargeable': False, 'amenityType': 'MEAL', 'amenityProvider': {'name': 'BrandedFare'}}, {'description': 'USB POWER', 'isChargeable': False, 'amenityType': 'ENTERTAINMENT', 'amenityProvider': {'name': 'BrandedFare'}}]}]}, {'travelerId': '2', 'fareOption': 'STANDARD', 'travelerType': 'ADULT', 'price': {'currency': 'USD', 'total': '376.17', 'base': '346.67'}, 'fareDetailsBySegment': [{'segmentId': '1', 'cabin': 'ECONOMY', 'fareBasis': 'IHX0ODBN', 'brandedFare': 'MB', 'brandedFareLabel': 'MAIN CABIN BASIC', 'class': 'U', 'includedCheckedBags': {'quantity': 0}, 'amenities': [{'description': 'UPTO50LB 23KG AND62LI 158LCM', 'isChargeable': True, 'amenityType': 'BAGGAGE', 'amenityProvider': {'name': 'BrandedFare'}}, {'description': 'SNACK', 'isChargeable': False, 'amenityType': 'MEAL', 'amenityProvider': {'name': 'BrandedFare'}}, {'description': 'ALCOHOLIC DRINK', 'isChargeable': True, 'amenityType': 'MEAL', 'amenityProvider': {'name': 'BrandedFare'}}, {'description': 'BEVERAGE', 'isChargeable': False, 'amenityType': 'MEAL', 'amenityProvider': {'name': 'BrandedFare'}}, {'description': 'MEAL 1', 'isChargeable': False, 'amenityType': 'MEAL', 'amenityProvider': {'name': 'BrandedFare'}}, {'description': 'USB POWER', 'isChargeable': False, 'amenityType': 'ENTERTAINMENT', 'amenityProvider': {'name': 'BrandedFare'}}]}]}]}\n",
      "{'type': 'flight-offer', 'id': '1', 'source': 'GDS', 'instantTicketingRequired': False, 'nonHomogeneous': False, 'oneWay': False, 'lastTicketingDate': '2024-02-17', 'lastTicketingDateTime': '2024-02-17', 'numberOfBookableSeats': 9, 'itineraries': [{'duration': 'PT7H', 'segments': [{'departure': {'iataCode': 'PHX', 'terminal': '3', 'at': '2024-03-14T07:00:00'}, 'arrival': {'iataCode': 'HNL', 'terminal': '1', 'at': '2024-03-14T11:00:00'}, 'carrierCode': 'HA', 'number': '35', 'aircraft': {'code': '332'}, 'operating': {'carrierCode': 'HA'}, 'duration': 'PT7H', 'id': '1', 'numberOfStops': 0, 'blacklistedInEU': False}]}], 'price': {'currency': 'USD', 'total': '642.38', 'base': '584.38', 'fees': [{'amount': '0.00', 'type': 'SUPPLIER'}, {'amount': '0.00', 'type': 'TICKETING'}], 'grandTotal': '642.38'}, 'pricingOptions': {'fareType': ['PUBLISHED'], 'includedCheckedBagsOnly': False}, 'validatingAirlineCodes': ['HA'], 'travelerPricings': [{'travelerId': '1', 'fareOption': 'STANDARD', 'travelerType': 'ADULT', 'price': {'currency': 'USD', 'total': '321.19', 'base': '292.19'}, 'fareDetailsBySegment': [{'segmentId': '1', 'cabin': 'ECONOMY', 'fareBasis': 'HHX4ODBN', 'brandedFare': 'MB', 'brandedFareLabel': 'MAIN CABIN BASIC', 'class': 'U', 'includedCheckedBags': {'quantity': 0}, 'amenities': [{'description': 'UPTO50LB 23KG AND62LI 158LCM', 'isChargeable': True, 'amenityType': 'BAGGAGE', 'amenityProvider': {'name': 'BrandedFare'}}, {'description': 'SNACK', 'isChargeable': False, 'amenityType': 'MEAL', 'amenityProvider': {'name': 'BrandedFare'}}, {'description': 'ALCOHOLIC DRINK', 'isChargeable': True, 'amenityType': 'MEAL', 'amenityProvider': {'name': 'BrandedFare'}}, {'description': 'BEVERAGE', 'isChargeable': False, 'amenityType': 'MEAL', 'amenityProvider': {'name': 'BrandedFare'}}, {'description': 'MEAL 1', 'isChargeable': False, 'amenityType': 'MEAL', 'amenityProvider': {'name': 'BrandedFare'}}, {'description': 'USB POWER', 'isChargeable': False, 'amenityType': 'ENTERTAINMENT', 'amenityProvider': {'name': 'BrandedFare'}}]}]}, {'travelerId': '2', 'fareOption': 'STANDARD', 'travelerType': 'ADULT', 'price': {'currency': 'USD', 'total': '321.19', 'base': '292.19'}, 'fareDetailsBySegment': [{'segmentId': '1', 'cabin': 'ECONOMY', 'fareBasis': 'HHX4ODBN', 'brandedFare': 'MB', 'brandedFareLabel': 'MAIN CABIN BASIC', 'class': 'U', 'includedCheckedBags': {'quantity': 0}, 'amenities': [{'description': 'UPTO50LB 23KG AND62LI 158LCM', 'isChargeable': True, 'amenityType': 'BAGGAGE', 'amenityProvider': {'name': 'BrandedFare'}}, {'description': 'SNACK', 'isChargeable': False, 'amenityType': 'MEAL', 'amenityProvider': {'name': 'BrandedFare'}}, {'description': 'ALCOHOLIC DRINK', 'isChargeable': True, 'amenityType': 'MEAL', 'amenityProvider': {'name': 'BrandedFare'}}, {'description': 'BEVERAGE', 'isChargeable': False, 'amenityType': 'MEAL', 'amenityProvider': {'name': 'BrandedFare'}}, {'description': 'MEAL 1', 'isChargeable': False, 'amenityType': 'MEAL', 'amenityProvider': {'name': 'BrandedFare'}}, {'description': 'USB POWER', 'isChargeable': False, 'amenityType': 'ENTERTAINMENT', 'amenityProvider': {'name': 'BrandedFare'}}]}]}]}\n"
     ]
    }
   ],
   "source": [
    "from amadeus import Client, ResponseError\n",
    "import datetime\n",
    "\n",
    "#For each airport in df get the price\n",
    "\n",
    "priceList = []\n",
    "prices = 1\n",
    "\n",
    "while prices < 5:\n",
    "\n",
    "    #Get the day to search for\n",
    "    day = datetime.date.today() + datetime.timedelta(days= prices * 7)\n",
    "    prices += 1\n",
    "\n",
    "    try:\n",
    "        response = amadeus.shopping.flight_offers_search.get(\n",
    "            originLocationCode='PHX', \n",
    "            destinationLocationCode='HNL',\n",
    "            departureDate=day,\n",
    "            adults=2,\n",
    "            includedAirlineCodes='HA',\n",
    "            currencyCode=\"USD\"\n",
    "            )\n",
    "        priceList.append(response.data[0]['price']['total'])\n",
    "        first_offer = response.data[0]\n",
    "        print(first_offer)\n",
    "    except ResponseError as error:\n",
    "        prices -= 1\n",
    "        print(error)"
   ]
  },
  {
   "cell_type": "code",
   "execution_count": 32,
   "metadata": {},
   "outputs": [
    {
     "data": {
      "text/plain": [
       "['662.40', '662.40', '752.34', '642.38']"
      ]
     },
     "execution_count": 32,
     "metadata": {},
     "output_type": "execute_result"
    }
   ],
   "source": [
    "priceList\n",
    "\n",
    "\n"
   ]
  }
 ],
 "metadata": {
  "kernelspec": {
   "display_name": "Python 3",
   "language": "python",
   "name": "python3"
  },
  "language_info": {
   "codemirror_mode": {
    "name": "ipython",
    "version": 3
   },
   "file_extension": ".py",
   "mimetype": "text/x-python",
   "name": "python",
   "nbconvert_exporter": "python",
   "pygments_lexer": "ipython3",
   "version": "3.10.1"
  }
 },
 "nbformat": 4,
 "nbformat_minor": 2
}
